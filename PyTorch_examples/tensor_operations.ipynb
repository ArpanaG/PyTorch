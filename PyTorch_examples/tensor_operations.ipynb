{
 "cells": [
  {
   "cell_type": "markdown",
   "metadata": {
    "id": "l7ZROtnn1vEQ"
   },
   "source": [
    "# PyTorch: Quick learning on 5 Tensor operations\n",
    "\n",
    "PyTorch is an open source machine learning library based on the Torch library, used for applications such as computer vision and natural language processing, primarily developed by Facebook's AI Research lab. PyTorch includes “Torch” in the name, acknowledging the prior torch library with the “Py” prefix indicating the Python focus of the new project. Tensors are the basic building blocks in PyTorch and they are similar to NumPy’s ndarrays, with the addition being that Tensors can also be used on a GPU to accelerate computing. \n",
    "\n",
    "Below are the 5 tensor functions with examples :\n",
    "- torch.rand :To construct a randomly initialized matrix\n",
    "- torch.full : To Creates a tensor of size 'size' filled with 'fill_value'\n",
    "- torch.reshape : Tensor which is reshaped without changing the data.\n",
    "- torch.clamp : Clamp all elements in input into the range [ min, max ] and return a resulting tensor:\n",
    "- torch.mean : Returns the mean value of all elements in the input tensor.\n",
    "\n",
    "Before we begin, let's install and import PyTorch"
   ]
  },
  {
   "cell_type": "code",
   "execution_count": 2,
   "metadata": {
    "id": "LHmcLGNc1vEQ"
   },
   "outputs": [],
   "source": [
    "# Import torch and other required modules\n",
    "import torch"
   ]
  },
  {
   "cell_type": "markdown",
   "metadata": {
    "id": "hqzjgziZ1vER"
   },
   "source": [
    "## Function 1 - torch.rand\n",
    "\n",
    "Returns a tensor filled with random numbers from a uniform distribution on the interval [0,1]"
   ]
  },
  {
   "cell_type": "code",
   "execution_count": 3,
   "metadata": {
    "colab": {
     "base_uri": "https://localhost:8080/"
    },
    "id": "YQIQ-Or01vER",
    "outputId": "cfcc78ec-b00f-4975-aac7-69358d739e06"
   },
   "outputs": [
    {
     "name": "stdout",
     "output_type": "stream",
     "text": [
      "tensor([[0.2775, 0.6186, 0.1041],\n",
      "        [0.7248, 0.6059, 0.9258],\n",
      "        [0.5086, 0.1269, 0.3711],\n",
      "        [0.6266, 0.3455, 0.3591],\n",
      "        [0.5760, 0.5477, 0.1024]])\n"
     ]
    }
   ],
   "source": [
    "x = torch.rand(5, 3)\n",
    "print(x)"
   ]
  },
  {
   "cell_type": "markdown",
   "metadata": {
    "id": "E9IAlE-p1vEU"
   },
   "source": [
    "This command creates matrix of 5 rows and 3 columns with the data type float"
   ]
  },
  {
   "cell_type": "code",
   "execution_count": 4,
   "metadata": {
    "colab": {
     "base_uri": "https://localhost:8080/"
    },
    "id": "RFoqqZzH1vEU",
    "outputId": "99183031-d17b-4070-9006-9b18e55b93ef"
   },
   "outputs": [
    {
     "data": {
      "text/plain": [
       "tensor([[0.1088, 0.6894, 0.3505],\n",
       "        [0.4766, 0.8803, 0.5728],\n",
       "        [0.4733, 0.5451, 0.7236]], requires_grad=True)"
      ]
     },
     "execution_count": 4,
     "metadata": {
      "tags": []
     },
     "output_type": "execute_result"
    }
   ],
   "source": [
    "torch.rand(3,3, requires_grad=True)"
   ]
  },
  {
   "cell_type": "markdown",
   "metadata": {
    "id": "M7LEKv551vEU"
   },
   "source": [
    "Parameter requires_grad (bool, optional) – If autograd should record operations on the returned tensor. Default: False"
   ]
  },
  {
   "cell_type": "code",
   "execution_count": 5,
   "metadata": {
    "colab": {
     "base_uri": "https://localhost:8080/",
     "height": 178
    },
    "id": "IqwQLUh01vEU",
    "outputId": "82ae1f79-dffd-4e35-fed8-f8b21e23c319"
   },
   "outputs": [
    {
     "ename": "RuntimeError",
     "evalue": "ignored",
     "output_type": "error",
     "traceback": [
      "\u001b[0;31m---------------------------------------------------------------------------\u001b[0m",
      "\u001b[0;31mRuntimeError\u001b[0m                              Traceback (most recent call last)",
      "\u001b[0;32m<ipython-input-5-2ffea9152416>\u001b[0m in \u001b[0;36m<module>\u001b[0;34m()\u001b[0m\n\u001b[0;32m----> 1\u001b[0;31m \u001b[0mx\u001b[0m \u001b[0;34m=\u001b[0m \u001b[0mtorch\u001b[0m\u001b[0;34m.\u001b[0m\u001b[0mrand\u001b[0m\u001b[0;34m(\u001b[0m\u001b[0;36m4\u001b[0m\u001b[0;34m,\u001b[0m \u001b[0;36m2\u001b[0m\u001b[0;34m,\u001b[0m \u001b[0mdtype\u001b[0m\u001b[0;34m=\u001b[0m\u001b[0mtorch\u001b[0m\u001b[0;34m.\u001b[0m\u001b[0mlong\u001b[0m\u001b[0;34m)\u001b[0m\u001b[0;34m\u001b[0m\u001b[0;34m\u001b[0m\u001b[0m\n\u001b[0m\u001b[1;32m      2\u001b[0m \u001b[0mprint\u001b[0m\u001b[0;34m(\u001b[0m\u001b[0mx\u001b[0m\u001b[0;34m)\u001b[0m\u001b[0;34m\u001b[0m\u001b[0;34m\u001b[0m\u001b[0m\n",
      "\u001b[0;31mRuntimeError\u001b[0m: \"check_uniform_bounds\" not implemented for 'Long'"
     ]
    }
   ],
   "source": [
    "x = torch.rand(4, 2, dtype=torch.long)\n",
    "print(x)"
   ]
  },
  {
   "cell_type": "markdown",
   "metadata": {
    "id": "vWzyIH_E1vEU"
   },
   "source": [
    "Creating the matrix of 4 rows and 2 columns with un supported data type throws the error"
   ]
  },
  {
   "cell_type": "markdown",
   "metadata": {
    "id": "GhO9JXJp1vEU"
   },
   "source": [
    "To create a random tensor with specific shape, use torch.rand() function with shape passed as argument to the function. torch.rand() function returns tensor with random values generated in the specified shape."
   ]
  },
  {
   "cell_type": "markdown",
   "metadata": {
    "id": "ezGgBaC01vEU"
   },
   "source": [
    "## Function 2 - torch.full\n",
    "\n",
    "This function creates a tensor of 'size' with the value mentioned in 'fill_value' The size can be a list or a tuple."
   ]
  },
  {
   "cell_type": "code",
   "execution_count": 8,
   "metadata": {
    "colab": {
     "base_uri": "https://localhost:8080/"
    },
    "id": "kH7l8kZ41vEU",
    "outputId": "805407a7-a628-4f02-b1a0-dce3bd5cb740"
   },
   "outputs": [
    {
     "data": {
      "text/plain": [
       "tensor([[6, 6],\n",
       "        [6, 6],\n",
       "        [6, 6],\n",
       "        [6, 6]])"
      ]
     },
     "execution_count": 8,
     "metadata": {
      "tags": []
     },
     "output_type": "execute_result"
    }
   ],
   "source": [
    "torch.full(size=(4,2), fill_value=6)"
   ]
  },
  {
   "cell_type": "markdown",
   "metadata": {
    "id": "84KghqSK1vEU"
   },
   "source": [
    "Created a tensor of 4 rows and 2 columns filled with value 6"
   ]
  },
  {
   "cell_type": "code",
   "execution_count": 9,
   "metadata": {
    "colab": {
     "base_uri": "https://localhost:8080/"
    },
    "id": "G9YRJK6s1vEV",
    "outputId": "cd34ff3b-42aa-4f6b-8324-ef4f61e9eb70"
   },
   "outputs": [
    {
     "data": {
      "text/plain": [
       "tensor([[[24, 24],\n",
       "         [24, 24]],\n",
       "\n",
       "        [[24, 24],\n",
       "         [24, 24]]])"
      ]
     },
     "execution_count": 9,
     "metadata": {
      "tags": []
     },
     "output_type": "execute_result"
    }
   ],
   "source": [
    "torch.full(size=[2, 2, 2], fill_value=4*6)"
   ]
  },
  {
   "cell_type": "markdown",
   "metadata": {
    "id": "lzYcNmW_1vEV"
   },
   "source": [
    "Here the size is mentioned in list format"
   ]
  },
  {
   "cell_type": "code",
   "execution_count": 10,
   "metadata": {
    "colab": {
     "base_uri": "https://localhost:8080/",
     "height": 229
    },
    "id": "qccSC86s1vEV",
    "outputId": "e3f39aad-5b5d-44be-e609-686d4558712b"
   },
   "outputs": [
    {
     "ename": "TypeError",
     "evalue": "ignored",
     "output_type": "error",
     "traceback": [
      "\u001b[0;31m---------------------------------------------------------------------------\u001b[0m",
      "\u001b[0;31mTypeError\u001b[0m                                 Traceback (most recent call last)",
      "\u001b[0;32m<ipython-input-10-0a3435326e6d>\u001b[0m in \u001b[0;36m<module>\u001b[0;34m()\u001b[0m\n\u001b[0;32m----> 1\u001b[0;31m \u001b[0mtorch\u001b[0m\u001b[0;34m.\u001b[0m\u001b[0mfull\u001b[0m\u001b[0;34m(\u001b[0m\u001b[0msize\u001b[0m\u001b[0;34m=\u001b[0m\u001b[0;34m[\u001b[0m\u001b[0;36m2\u001b[0m\u001b[0;34m,\u001b[0m\u001b[0;36m1\u001b[0m\u001b[0;34m]\u001b[0m\u001b[0;34m,\u001b[0m \u001b[0mfill_value\u001b[0m\u001b[0;34m=\u001b[0m\u001b[0;34m'a'\u001b[0m\u001b[0;34m)\u001b[0m\u001b[0;34m\u001b[0m\u001b[0;34m\u001b[0m\u001b[0m\n\u001b[0m",
      "\u001b[0;31mTypeError\u001b[0m: full() received an invalid combination of arguments - got (fill_value=str, size=list, ), but expected one of:\n * (tuple of ints size, Number fill_value, *, Tensor out, torch.dtype dtype, torch.layout layout, torch.device device, bool pin_memory, bool requires_grad)\n * (tuple of ints size, Number fill_value, *, tuple of names names, torch.dtype dtype, torch.layout layout, torch.device device, bool pin_memory, bool requires_grad)\n"
     ]
    }
   ],
   "source": [
    "torch.full(size=[2,1], fill_value='a')"
   ]
  },
  {
   "cell_type": "markdown",
   "metadata": {
    "id": "DSVWbe2S1vEV"
   },
   "source": [
    "Values in the tensor cannot be a string type"
   ]
  },
  {
   "cell_type": "markdown",
   "metadata": {
    "id": "LIL3Xnjl1vEV"
   },
   "source": [
    "## Function 3 - torch.reshape\n",
    "\n",
    "Returns a tensor with the same data and number of elements as input, but with the specified shape."
   ]
  },
  {
   "cell_type": "code",
   "execution_count": 18,
   "metadata": {
    "colab": {
     "base_uri": "https://localhost:8080/"
    },
    "id": "KWRAVQdO1vEV",
    "outputId": "f2775502-af30-4701-cd59-99eee8170c5c"
   },
   "outputs": [
    {
     "name": "stdout",
     "output_type": "stream",
     "text": [
      "Before reshape:\n",
      " tensor([[0, 1],\n",
      "        [2, 3]])\n",
      "After reshape:\n",
      " tensor([0, 1, 2, 3])\n"
     ]
    },
    {
     "data": {
      "text/plain": [
       "torch.Size([4])"
      ]
     },
     "execution_count": 18,
     "metadata": {
      "tags": []
     },
     "output_type": "execute_result"
    }
   ],
   "source": [
    "a = torch.tensor([[0, 1], [2, 3]])\n",
    "print(\"Before reshape:\\n\", a)\n",
    "a = torch.reshape(a, (-1,))\n",
    "print(\"After reshape:\\n\", a)\n",
    "a.shape"
   ]
  },
  {
   "cell_type": "markdown",
   "metadata": {
    "id": "cNRS1oQn1vEV"
   },
   "source": [
    "Here '-1' refers to unwinding the tensor to single dimension"
   ]
  },
  {
   "cell_type": "code",
   "execution_count": 22,
   "metadata": {
    "colab": {
     "base_uri": "https://localhost:8080/"
    },
    "id": "riV-XQE91vEV",
    "outputId": "519bdc56-5d53-48cf-ba51-35081fd002ed"
   },
   "outputs": [
    {
     "name": "stdout",
     "output_type": "stream",
     "text": [
      "Before reshape:\n",
      " torch.Size([4])\n",
      "After reshape:\n",
      " torch.Size([2, 2])\n"
     ]
    },
    {
     "data": {
      "text/plain": [
       "tensor([[0., 1.],\n",
       "        [2., 3.]])"
      ]
     },
     "execution_count": 22,
     "metadata": {
      "tags": []
     },
     "output_type": "execute_result"
    }
   ],
   "source": [
    "b = torch.arange(4.)\n",
    "print(\"Before reshape:\\n\", b.shape)\n",
    "b = torch.reshape(b, (2, 2))\n",
    "print(\"After reshape:\\n\", b.shape)\n",
    "b"
   ]
  },
  {
   "cell_type": "markdown",
   "metadata": {
    "id": "mopoLiXv1vEV"
   },
   "source": [
    "Tensor which has shape of (4) reshaped to (2,2)"
   ]
  },
  {
   "cell_type": "code",
   "execution_count": 24,
   "metadata": {
    "colab": {
     "base_uri": "https://localhost:8080/",
     "height": 162
    },
    "id": "_4yx1IkL1vEV",
    "outputId": "ff1f2ad6-1a8d-43a9-cd08-1f5cdc61394f"
   },
   "outputs": [
    {
     "ename": "RuntimeError",
     "evalue": "ignored",
     "output_type": "error",
     "traceback": [
      "\u001b[0;31m---------------------------------------------------------------------------\u001b[0m",
      "\u001b[0;31mRuntimeError\u001b[0m                              Traceback (most recent call last)",
      "\u001b[0;32m<ipython-input-24-63a5567aa351>\u001b[0m in \u001b[0;36m<module>\u001b[0;34m()\u001b[0m\n\u001b[0;32m----> 1\u001b[0;31m \u001b[0mtorch\u001b[0m\u001b[0;34m.\u001b[0m\u001b[0mreshape\u001b[0m\u001b[0;34m(\u001b[0m\u001b[0mb\u001b[0m\u001b[0;34m,\u001b[0m \u001b[0;34m(\u001b[0m\u001b[0;36m2\u001b[0m\u001b[0;34m,\u001b[0m\u001b[0;36m3\u001b[0m\u001b[0;34m)\u001b[0m\u001b[0;34m)\u001b[0m\u001b[0;34m\u001b[0m\u001b[0;34m\u001b[0m\u001b[0m\n\u001b[0m",
      "\u001b[0;31mRuntimeError\u001b[0m: shape '[2, 3]' is invalid for input of size 4"
     ]
    }
   ],
   "source": [
    "torch.reshape(b, (2,3))"
   ]
  },
  {
   "cell_type": "markdown",
   "metadata": {
    "id": "agO0m8w01vEV"
   },
   "source": [
    "Need to pass proper size input for reshaping"
   ]
  },
  {
   "cell_type": "markdown",
   "metadata": {
    "id": "wbY4Naeq1vEV"
   },
   "source": [
    "This command is very useful when we work with NN models"
   ]
  },
  {
   "cell_type": "markdown",
   "metadata": {
    "id": "wN4szwr11vEV"
   },
   "source": [
    "## Function 4 - torch.clamp\n",
    "\n",
    "This function clamps all elements in input into lower-bound of the range (min) , upper-bound of the range (max) and return a resulting tensor. "
   ]
  },
  {
   "cell_type": "code",
   "execution_count": 27,
   "metadata": {
    "colab": {
     "base_uri": "https://localhost:8080/"
    },
    "id": "FDQfTwRI1vEV",
    "outputId": "29e9be2a-e782-495e-a50a-6a7e306dcda4"
   },
   "outputs": [
    {
     "name": "stdout",
     "output_type": "stream",
     "text": [
      "tensor([ 0.3203, -1.0588,  1.0739,  0.7409])\n"
     ]
    },
    {
     "data": {
      "text/plain": [
       "tensor([ 0.3203, -0.5000,  0.7000,  0.7000])"
      ]
     },
     "execution_count": 27,
     "metadata": {
      "tags": []
     },
     "output_type": "execute_result"
    }
   ],
   "source": [
    "a = torch.randn(4)\n",
    "print(a)\n",
    "torch.clamp(a, min=-0.5, max=0.7)"
   ]
  },
  {
   "cell_type": "markdown",
   "metadata": {
    "id": "48Vi1OKI1vEW"
   },
   "source": [
    "clamped all elements in the input tensor 'a' to range [-0.5 to 0.7]"
   ]
  },
  {
   "cell_type": "code",
   "execution_count": 28,
   "metadata": {
    "colab": {
     "base_uri": "https://localhost:8080/"
    },
    "id": "yShd_Fhs1vEW",
    "outputId": "83a2b5ff-52ad-4060-cfa8-24fb67129588"
   },
   "outputs": [
    {
     "data": {
      "text/plain": [
       "tensor([ 0.3203, -1.0588,  0.6000,  0.6000])"
      ]
     },
     "execution_count": 28,
     "metadata": {
      "tags": []
     },
     "output_type": "execute_result"
    }
   ],
   "source": [
    "torch.clamp(a, max=0.6)"
   ]
  },
  {
   "cell_type": "markdown",
   "metadata": {
    "id": "_PcgtQOB1vEW"
   },
   "source": [
    "Clamps all elements in input to be smaller or equal max(0.6)."
   ]
  },
  {
   "cell_type": "code",
   "execution_count": 32,
   "metadata": {
    "colab": {
     "base_uri": "https://localhost:8080/"
    },
    "id": "QgVXqN181vEW",
    "outputId": "e6ccfec5-9dd3-4ec7-9eb8-1c34489e6364"
   },
   "outputs": [
    {
     "name": "stdout",
     "output_type": "stream",
     "text": [
      "tensor([[8, 8, 8],\n",
      "        [8, 8, 8],\n",
      "        [8, 8, 8],\n",
      "        [8, 8, 8]])\n"
     ]
    },
    {
     "data": {
      "text/plain": [
       "tensor([[0, 0, 0],\n",
       "        [0, 0, 0],\n",
       "        [0, 0, 0],\n",
       "        [0, 0, 0]])"
      ]
     },
     "execution_count": 32,
     "metadata": {
      "tags": []
     },
     "output_type": "execute_result"
    }
   ],
   "source": [
    "b=torch.full(size=[4,3], fill_value=8)\n",
    "print(b)\n",
    "torch.clamp(b, max=0.6)"
   ]
  },
  {
   "cell_type": "markdown",
   "metadata": {
    "id": "Xs6af0ez1vEW"
   },
   "source": [
    "If input is of type FloatTensor or DoubleTensor, args min and max must be real numbers, otherwise they should be integers."
   ]
  },
  {
   "cell_type": "markdown",
   "metadata": {
    "id": "6BmrZuyM1vEW"
   },
   "source": [
    "## Function 5 - torch.mean\n",
    "\n",
    "Returns the mean value of each row of the input tensor in the given dimension dim. If dim is a list of dimensions, reduce over all of them.\n",
    "\n",
    "If keepdim is True, the output tensor is of the same size as input except in the dimension(s) dim where it is of size 1. Otherwise, dim is squeezed (see torch.squeeze()), resulting in the output tensor having 1 (or len(dim)) fewer dimension(s)."
   ]
  },
  {
   "cell_type": "code",
   "execution_count": 36,
   "metadata": {
    "colab": {
     "base_uri": "https://localhost:8080/"
    },
    "id": "zuJxOKwA1vEW",
    "outputId": "d90d8016-ae71-4a14-ba4d-b7c729bfd2e8"
   },
   "outputs": [
    {
     "name": "stdout",
     "output_type": "stream",
     "text": [
      "tensor([[-0.5047, -0.6616, -2.3984],\n",
      "        [-0.5758, -0.8946, -0.5671]])\n"
     ]
    },
    {
     "data": {
      "text/plain": [
       "tensor(-0.9337)"
      ]
     },
     "execution_count": 36,
     "metadata": {
      "tags": []
     },
     "output_type": "execute_result"
    }
   ],
   "source": [
    "m = torch.randn(2, 3)\n",
    "print(m)\n",
    "torch.mean(m)"
   ]
  },
  {
   "cell_type": "markdown",
   "metadata": {
    "id": "LU5o3J4I1vEW"
   },
   "source": [
    "Here we havn't mentioned any dimension , so result is squeezed to 1 dimension"
   ]
  },
  {
   "cell_type": "code",
   "execution_count": 52,
   "metadata": {
    "colab": {
     "base_uri": "https://localhost:8080/"
    },
    "id": "xB1xQRWX1vEW",
    "outputId": "eba5ca75-509a-46f6-edc4-528abaf51ef2"
   },
   "outputs": [
    {
     "name": "stdout",
     "output_type": "stream",
     "text": [
      "original tensor:\n",
      " tensor([[[ 2.6334, -0.3781, -0.3770,  0.0966],\n",
      "         [-0.2986,  1.0616,  0.7748,  2.2552],\n",
      "         [-0.9330,  1.5062, -2.1099,  1.1717],\n",
      "         [-0.6346, -1.2665, -0.1428,  0.2116]],\n",
      "\n",
      "        [[ 0.7836,  1.4585, -0.9360, -1.4345],\n",
      "         [-0.6118, -0.0169, -0.3252, -0.7605],\n",
      "         [ 1.5772, -0.0893, -0.0554,  1.9793],\n",
      "         [-0.4636, -1.4632, -0.3768, -1.5658]]])\n",
      "tensor([[ 0.1918,  0.2308, -0.4637,  0.9338],\n",
      "        [ 0.3214, -0.0277, -0.4233, -0.4454]])\n",
      "tensor([[[ 0.4937],\n",
      "         [ 0.9483],\n",
      "         [-0.0912],\n",
      "         [-0.4580]],\n",
      "\n",
      "        [[-0.0321],\n",
      "         [-0.4286],\n",
      "         [ 0.8530],\n",
      "         [-0.9673]]])\n"
     ]
    }
   ],
   "source": [
    "a = torch.randn(2, 4, 4)\n",
    "print(\"original tensor:\\n\", a)\n",
    "print(torch.mean(a, 1))\n",
    "print(torch.mean(a, 2, True))"
   ]
  },
  {
   "cell_type": "markdown",
   "metadata": {
    "id": "7iCchM3r1vEW"
   },
   "source": [
    "Here in first output dimension is passed so result size is 4 columns. And in second output, 'keepdim' is set to True, so size is [2, 4,1] ."
   ]
  },
  {
   "cell_type": "code",
   "execution_count": 53,
   "metadata": {
    "colab": {
     "base_uri": "https://localhost:8080/",
     "height": 162
    },
    "id": "R3IHPpZJ1vEW",
    "outputId": "ceef5b62-ac35-40ce-e272-1b4b9bf86891"
   },
   "outputs": [
    {
     "ename": "IndexError",
     "evalue": "ignored",
     "output_type": "error",
     "traceback": [
      "\u001b[0;31m---------------------------------------------------------------------------\u001b[0m",
      "\u001b[0;31mIndexError\u001b[0m                                Traceback (most recent call last)",
      "\u001b[0;32m<ipython-input-53-e28848ce59df>\u001b[0m in \u001b[0;36m<module>\u001b[0;34m()\u001b[0m\n\u001b[0;32m----> 1\u001b[0;31m \u001b[0mtorch\u001b[0m\u001b[0;34m.\u001b[0m\u001b[0mmean\u001b[0m\u001b[0;34m(\u001b[0m\u001b[0ma\u001b[0m\u001b[0;34m,\u001b[0m \u001b[0;36m4\u001b[0m\u001b[0;34m,\u001b[0m \u001b[0;32mTrue\u001b[0m\u001b[0;34m)\u001b[0m\u001b[0;34m\u001b[0m\u001b[0;34m\u001b[0m\u001b[0m\n\u001b[0m",
      "\u001b[0;31mIndexError\u001b[0m: Dimension out of range (expected to be in range of [-3, 2], but got 4)"
     ]
    }
   ],
   "source": [
    "torch.mean(a, 4, True)"
   ]
  },
  {
   "cell_type": "markdown",
   "metadata": {
    "id": "0V-2FJHA1vEX"
   },
   "source": [
    "We need to be careful while passing the dimension , shouldnot be out of range."
   ]
  },
  {
   "cell_type": "markdown",
   "metadata": {
    "id": "1sbzpaWy1vEX"
   },
   "source": [
    "## Conclusion\n",
    "\n",
    "we saw the working of five simple and useful functions available in PyTorch."
   ]
  },
  {
   "cell_type": "markdown",
   "metadata": {
    "id": "0Bx9uNtT1vEX"
   },
   "source": [
    "## Reference Links\n",
    "* Official documentation for tensor operations: https://pytorch.org/docs/stable/torch.html"
   ]
  },
  {
   "cell_type": "code",
   "execution_count": null,
   "metadata": {
    "id": "9B6qFKTF1vEX"
   },
   "outputs": [],
   "source": []
  }
 ],
 "metadata": {
  "colab": {
   "name": "01-tensor-operations.ipynb",
   "provenance": []
  },
  "kernelspec": {
   "display_name": "Python 3",
   "language": "python",
   "name": "python3"
  },
  "language_info": {
   "codemirror_mode": {
    "name": "ipython",
    "version": 3
   },
   "file_extension": ".py",
   "mimetype": "text/x-python",
   "name": "python",
   "nbconvert_exporter": "python",
   "pygments_lexer": "ipython3",
   "version": "3.6.5"
  }
 },
 "nbformat": 4,
 "nbformat_minor": 1
}
