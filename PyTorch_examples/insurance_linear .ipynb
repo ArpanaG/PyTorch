{
 "cells": [
  {
   "cell_type": "markdown",
   "metadata": {
    "_cell_guid": "b1076dfc-b9ad-4769-8c92-a6c4dae69d19",
    "_uuid": "8f2839f25d086af736a60e9eeb907d3b93b6e0e5",
    "id": "N6qIpy_0EkM3"
   },
   "source": [
    "# Insurance cost prediction using linear regression\n",
    "\n",
    "In this assignment we're going to use information like a person's age, sex, BMI, no. of children and smoking habit to predict the price of yearly medical bills. This kind of model is useful for insurance companies to determine the yearly insurance premium for a person. The dataset for this problem is taken from [Kaggle](https://www.kaggle.com/mirichoi0218/insurance).\n",
    "\n",
    "\n",
    "We will create a model with the following steps:\n",
    "1. Download and explore the dataset\n",
    "2. Prepare the dataset for training\n",
    "3. Create a linear regression model\n",
    "4. Train the model to fit the data\n",
    "5. Make predictions using the trained model\n",
    "\n",
    "As you go through this notebook, you will find a **???** in certain places. Your job is to replace the **???** with appropriate code or values, to ensure that the notebook runs properly end-to-end . In some cases, you'll be required to choose some hyperparameters (learning rate, batch size etc.). Try to experiment with the hypeparameters to get the lowest loss.\n"
   ]
  },
  {
   "cell_type": "code",
   "execution_count": 169,
   "metadata": {
    "id": "8UkQin3HEkM3"
   },
   "outputs": [],
   "source": [
    "import torch\n",
    "import torchvision\n",
    "import torch.nn as nn\n",
    "import pandas as pd\n",
    "import numpy as np\n",
    "import matplotlib.pyplot as plt\n",
    "import torch.nn.functional as F\n",
    "from torchvision.datasets.utils import download_url\n",
    "from torch.utils.data import DataLoader, TensorDataset, random_split\n",
    "import seaborn as sns\n",
    "from sklearn.preprocessing import MinMaxScaler"
   ]
  },
  {
   "cell_type": "markdown",
   "metadata": {
    "id": "_lVbwYioEkM4"
   },
   "source": [
    "## Step 1: Download and explore the data\n",
    "\n",
    "Let us begin by downloading the data. We'll use the `download_url` function from PyTorch to get the data as a CSV (comma-separated values) file. "
   ]
  },
  {
   "cell_type": "code",
   "execution_count": 171,
   "metadata": {
    "_cell_guid": "79c7e3d0-c299-4dcb-8224-4455121ee9b0",
    "_uuid": "d629ff2d2480ee46fbb7e2d37f6b5fab8052498a",
    "colab": {
     "base_uri": "https://localhost:8080/"
    },
    "id": "TEOvY2tREkM4",
    "outputId": "842157a3-a1c4-4aa6-bd49-c019e37ef35f"
   },
   "outputs": [
    {
     "name": "stdout",
     "output_type": "stream",
     "text": [
      "Using downloaded and verified file: ./insurance.csv\n"
     ]
    }
   ],
   "source": [
    "DATASET_URL = \"https://hub.jovian.ml/wp-content/uploads/2020/05/insurance.csv\"\n",
    "DATA_FILENAME = \"insurance.csv\"\n",
    "download_url(DATASET_URL, '.')"
   ]
  },
  {
   "cell_type": "markdown",
   "metadata": {
    "id": "OVezd8-6EkM8"
   },
   "source": [
    "To load the dataset into memory, we'll use the `read_csv` function from the `pandas` library. The data will be loaded as a Pandas dataframe. See this short tutorial to learn more: https://data36.com/pandas-tutorial-1-basics-reading-data-files-dataframes-data-selection/"
   ]
  },
  {
   "cell_type": "code",
   "execution_count": 172,
   "metadata": {
    "colab": {
     "base_uri": "https://localhost:8080/",
     "height": 195
    },
    "id": "Lg15A7BUEkM8",
    "outputId": "37a4ba54-1116-41ce-896f-a229b255ec51"
   },
   "outputs": [
    {
     "data": {
      "text/html": [
       "<div>\n",
       "<style scoped>\n",
       "    .dataframe tbody tr th:only-of-type {\n",
       "        vertical-align: middle;\n",
       "    }\n",
       "\n",
       "    .dataframe tbody tr th {\n",
       "        vertical-align: top;\n",
       "    }\n",
       "\n",
       "    .dataframe thead th {\n",
       "        text-align: right;\n",
       "    }\n",
       "</style>\n",
       "<table border=\"1\" class=\"dataframe\">\n",
       "  <thead>\n",
       "    <tr style=\"text-align: right;\">\n",
       "      <th></th>\n",
       "      <th>age</th>\n",
       "      <th>sex</th>\n",
       "      <th>bmi</th>\n",
       "      <th>children</th>\n",
       "      <th>smoker</th>\n",
       "      <th>region</th>\n",
       "      <th>charges</th>\n",
       "    </tr>\n",
       "  </thead>\n",
       "  <tbody>\n",
       "    <tr>\n",
       "      <th>0</th>\n",
       "      <td>19</td>\n",
       "      <td>female</td>\n",
       "      <td>27.900</td>\n",
       "      <td>0</td>\n",
       "      <td>yes</td>\n",
       "      <td>southwest</td>\n",
       "      <td>16884.92400</td>\n",
       "    </tr>\n",
       "    <tr>\n",
       "      <th>1</th>\n",
       "      <td>18</td>\n",
       "      <td>male</td>\n",
       "      <td>33.770</td>\n",
       "      <td>1</td>\n",
       "      <td>no</td>\n",
       "      <td>southeast</td>\n",
       "      <td>1725.55230</td>\n",
       "    </tr>\n",
       "    <tr>\n",
       "      <th>2</th>\n",
       "      <td>28</td>\n",
       "      <td>male</td>\n",
       "      <td>33.000</td>\n",
       "      <td>3</td>\n",
       "      <td>no</td>\n",
       "      <td>southeast</td>\n",
       "      <td>4449.46200</td>\n",
       "    </tr>\n",
       "    <tr>\n",
       "      <th>3</th>\n",
       "      <td>33</td>\n",
       "      <td>male</td>\n",
       "      <td>22.705</td>\n",
       "      <td>0</td>\n",
       "      <td>no</td>\n",
       "      <td>northwest</td>\n",
       "      <td>21984.47061</td>\n",
       "    </tr>\n",
       "    <tr>\n",
       "      <th>4</th>\n",
       "      <td>32</td>\n",
       "      <td>male</td>\n",
       "      <td>28.880</td>\n",
       "      <td>0</td>\n",
       "      <td>no</td>\n",
       "      <td>northwest</td>\n",
       "      <td>3866.85520</td>\n",
       "    </tr>\n",
       "  </tbody>\n",
       "</table>\n",
       "</div>"
      ],
      "text/plain": [
       "   age     sex     bmi  children smoker     region      charges\n",
       "0   19  female  27.900         0    yes  southwest  16884.92400\n",
       "1   18    male  33.770         1     no  southeast   1725.55230\n",
       "2   28    male  33.000         3     no  southeast   4449.46200\n",
       "3   33    male  22.705         0     no  northwest  21984.47061\n",
       "4   32    male  28.880         0     no  northwest   3866.85520"
      ]
     },
     "execution_count": 172,
     "metadata": {
      "tags": []
     },
     "output_type": "execute_result"
    }
   ],
   "source": [
    "dataframe_raw = pd.read_csv(DATA_FILENAME)\n",
    "dataframe_raw.head()"
   ]
  },
  {
   "cell_type": "markdown",
   "metadata": {
    "id": "Cwcd-lukEkM8"
   },
   "source": [
    "We're going to do a slight customization of the data, so that you every participant receives a slightly different version of the dataset. Fill in your name below as a string (enter at least 5 characters)"
   ]
  },
  {
   "cell_type": "code",
   "execution_count": 173,
   "metadata": {
    "id": "jwzakMB6EkM8"
   },
   "outputs": [],
   "source": [
    "your_name = 'Arpana'"
   ]
  },
  {
   "cell_type": "markdown",
   "metadata": {
    "id": "Q9EL1PM_EkM8"
   },
   "source": [
    "The `customize_dataset` function will customize the dataset slightly using your name as a source of random numbers."
   ]
  },
  {
   "cell_type": "code",
   "execution_count": 174,
   "metadata": {
    "id": "om7RG3vfEkM8"
   },
   "outputs": [],
   "source": [
    "def customize_dataset(dataframe_raw, rand_str):\n",
    "    dataframe = dataframe_raw.copy(deep=True)\n",
    "    # drop some rows\n",
    "    dataframe = dataframe.sample(int(0.95*len(dataframe)), random_state=int(ord(rand_str[0])))\n",
    "    # scale input\n",
    "    dataframe.bmi = dataframe.bmi * ord(rand_str[1])/100.\n",
    "    # scale target\n",
    "    dataframe.charges = dataframe.charges * ord(rand_str[2])/100.\n",
    "    # drop column\n",
    "    if ord(rand_str[3]) % 2 == 1:\n",
    "        dataframe = dataframe.drop(['region'], axis=1)\n",
    "    return dataframe"
   ]
  },
  {
   "cell_type": "code",
   "execution_count": 175,
   "metadata": {
    "colab": {
     "base_uri": "https://localhost:8080/",
     "height": 195
    },
    "id": "0cMEkgOaEkM8",
    "outputId": "aed4461d-a8ed-4e89-b23f-4053902e1bf7"
   },
   "outputs": [
    {
     "data": {
      "text/html": [
       "<div>\n",
       "<style scoped>\n",
       "    .dataframe tbody tr th:only-of-type {\n",
       "        vertical-align: middle;\n",
       "    }\n",
       "\n",
       "    .dataframe tbody tr th {\n",
       "        vertical-align: top;\n",
       "    }\n",
       "\n",
       "    .dataframe thead th {\n",
       "        text-align: right;\n",
       "    }\n",
       "</style>\n",
       "<table border=\"1\" class=\"dataframe\">\n",
       "  <thead>\n",
       "    <tr style=\"text-align: right;\">\n",
       "      <th></th>\n",
       "      <th>age</th>\n",
       "      <th>sex</th>\n",
       "      <th>bmi</th>\n",
       "      <th>children</th>\n",
       "      <th>smoker</th>\n",
       "      <th>charges</th>\n",
       "    </tr>\n",
       "  </thead>\n",
       "  <tbody>\n",
       "    <tr>\n",
       "      <th>27</th>\n",
       "      <td>55</td>\n",
       "      <td>female</td>\n",
       "      <td>37.3635</td>\n",
       "      <td>2</td>\n",
       "      <td>no</td>\n",
       "      <td>13740.868120</td>\n",
       "    </tr>\n",
       "    <tr>\n",
       "      <th>752</th>\n",
       "      <td>64</td>\n",
       "      <td>male</td>\n",
       "      <td>43.2117</td>\n",
       "      <td>0</td>\n",
       "      <td>no</td>\n",
       "      <td>15915.800264</td>\n",
       "    </tr>\n",
       "    <tr>\n",
       "      <th>1258</th>\n",
       "      <td>55</td>\n",
       "      <td>male</td>\n",
       "      <td>42.9951</td>\n",
       "      <td>3</td>\n",
       "      <td>no</td>\n",
       "      <td>33671.210216</td>\n",
       "    </tr>\n",
       "    <tr>\n",
       "      <th>384</th>\n",
       "      <td>44</td>\n",
       "      <td>male</td>\n",
       "      <td>25.2339</td>\n",
       "      <td>2</td>\n",
       "      <td>no</td>\n",
       "      <td>9298.839928</td>\n",
       "    </tr>\n",
       "    <tr>\n",
       "      <th>406</th>\n",
       "      <td>33</td>\n",
       "      <td>female</td>\n",
       "      <td>27.7134</td>\n",
       "      <td>0</td>\n",
       "      <td>no</td>\n",
       "      <td>4687.309648</td>\n",
       "    </tr>\n",
       "  </tbody>\n",
       "</table>\n",
       "</div>"
      ],
      "text/plain": [
       "      age     sex      bmi  children smoker       charges\n",
       "27     55  female  37.3635         2     no  13740.868120\n",
       "752    64    male  43.2117         0     no  15915.800264\n",
       "1258   55    male  42.9951         3     no  33671.210216\n",
       "384    44    male  25.2339         2     no   9298.839928\n",
       "406    33  female  27.7134         0     no   4687.309648"
      ]
     },
     "execution_count": 175,
     "metadata": {
      "tags": []
     },
     "output_type": "execute_result"
    }
   ],
   "source": [
    "dataframe = customize_dataset(dataframe_raw, your_name)\n",
    "dataframe.head()"
   ]
  },
  {
   "cell_type": "markdown",
   "metadata": {
    "id": "p7Syf3BwEkM8"
   },
   "source": [
    "Let us answer some basic questions about the dataset. \n",
    "\n",
    "\n",
    "**Q: How many rows does the dataset have?**"
   ]
  },
  {
   "cell_type": "code",
   "execution_count": 176,
   "metadata": {
    "colab": {
     "base_uri": "https://localhost:8080/"
    },
    "id": "563ZC_SVEkM8",
    "outputId": "09916dc6-05ad-4571-a761-d58aeac99360"
   },
   "outputs": [
    {
     "name": "stdout",
     "output_type": "stream",
     "text": [
      "1271\n"
     ]
    }
   ],
   "source": [
    "num_rows = dataframe.shape[0]\n",
    "print(num_rows)"
   ]
  },
  {
   "cell_type": "markdown",
   "metadata": {
    "id": "OGNu_c60EkM8"
   },
   "source": [
    "**Q: How many columns does the dataset have**"
   ]
  },
  {
   "cell_type": "code",
   "execution_count": 177,
   "metadata": {
    "colab": {
     "base_uri": "https://localhost:8080/"
    },
    "id": "6xQwj33DEkM8",
    "outputId": "30ff54cb-d7ee-48e3-ae94-0a9ae17a6497"
   },
   "outputs": [
    {
     "name": "stdout",
     "output_type": "stream",
     "text": [
      "6\n"
     ]
    }
   ],
   "source": [
    "num_cols = dataframe.shape[1]\n",
    "print(num_cols)"
   ]
  },
  {
   "cell_type": "markdown",
   "metadata": {
    "id": "nHbj7t1QEkM9"
   },
   "source": [
    "**Q: What are the column titles of the input variables?**"
   ]
  },
  {
   "cell_type": "code",
   "execution_count": 178,
   "metadata": {
    "colab": {
     "base_uri": "https://localhost:8080/"
    },
    "id": "DDM0iI_NEkM9",
    "outputId": "0e675750-1179-4cfc-9014-484209d9b16e"
   },
   "outputs": [
    {
     "name": "stdout",
     "output_type": "stream",
     "text": [
      "Index(['age', 'sex', 'bmi', 'children', 'smoker'], dtype='object')\n"
     ]
    }
   ],
   "source": [
    "input_cols = dataframe.columns[:-1]\n",
    "print(input_cols)"
   ]
  },
  {
   "cell_type": "markdown",
   "metadata": {
    "id": "shwYcmPPEkM9"
   },
   "source": [
    "**Q: Which of the input columns are non-numeric or categorial variables ?**\n",
    "\n",
    "Hint: `sex` is one of them. List the columns that are not numbers."
   ]
  },
  {
   "cell_type": "code",
   "execution_count": 179,
   "metadata": {
    "colab": {
     "base_uri": "https://localhost:8080/"
    },
    "id": "phKG-2G-GZMv",
    "outputId": "6f3e9c4f-0fe4-4ad7-b9c9-a7f14edfe535"
   },
   "outputs": [
    {
     "data": {
      "text/plain": [
       "age           int64\n",
       "sex          object\n",
       "bmi         float64\n",
       "children      int64\n",
       "smoker       object\n",
       "charges     float64\n",
       "dtype: object"
      ]
     },
     "execution_count": 179,
     "metadata": {
      "tags": []
     },
     "output_type": "execute_result"
    }
   ],
   "source": [
    "dataframe.dtypes"
   ]
  },
  {
   "cell_type": "code",
   "execution_count": 180,
   "metadata": {
    "colab": {
     "base_uri": "https://localhost:8080/"
    },
    "id": "0iBrknUmEkM9",
    "outputId": "0dbf665c-9996-4734-ef5b-ca5c3056d329"
   },
   "outputs": [
    {
     "data": {
      "text/plain": [
       "['sex', 'smoker']"
      ]
     },
     "execution_count": 180,
     "metadata": {
      "tags": []
     },
     "output_type": "execute_result"
    }
   ],
   "source": [
    "categorical_cols = [x for x in input_cols if dataframe[x].dtypes=='object']\n",
    "categorical_cols"
   ]
  },
  {
   "cell_type": "markdown",
   "metadata": {
    "id": "tA1rBoKiEkM9"
   },
   "source": [
    "**Q: What are the column titles of output/target variable(s)?**"
   ]
  },
  {
   "cell_type": "code",
   "execution_count": 181,
   "metadata": {
    "colab": {
     "base_uri": "https://localhost:8080/"
    },
    "id": "5AtR1_AGEkM9",
    "outputId": "4eecdeba-08de-439f-bf7c-acadc0721c3a"
   },
   "outputs": [
    {
     "data": {
      "text/plain": [
       "['charges']"
      ]
     },
     "execution_count": 181,
     "metadata": {
      "tags": []
     },
     "output_type": "execute_result"
    }
   ],
   "source": [
    "output_cols = [dataframe.columns[-1]]\n",
    "output_cols"
   ]
  },
  {
   "cell_type": "markdown",
   "metadata": {
    "id": "WzdqihTvEkM9"
   },
   "source": [
    "**Q: (Optional) What is the minimum, maximum and average value of the `charges` column? Can you show the distribution of values in a graph?**"
   ]
  },
  {
   "cell_type": "code",
   "execution_count": 182,
   "metadata": {
    "colab": {
     "base_uri": "https://localhost:8080/",
     "height": 350
    },
    "id": "BUe8feYaCn8u",
    "outputId": "53fd239b-fd54-4cd8-e188-5787909c9794"
   },
   "outputs": [
    {
     "name": "stderr",
     "output_type": "stream",
     "text": [
      "/usr/local/lib/python3.6/dist-packages/seaborn/_decorators.py:43: FutureWarning: Pass the following variable as a keyword arg: x. From version 0.12, the only valid positional argument will be `data`, and passing other arguments without an explicit keyword will result in an error or misinterpretation.\n",
      "  FutureWarning\n"
     ]
    },
    {
     "data": {
      "text/plain": [
       "<matplotlib.axes._subplots.AxesSubplot at 0x7fd3dca23898>"
      ]
     },
     "execution_count": 182,
     "metadata": {
      "tags": []
     },
     "output_type": "execute_result"
    },
    {
     "data": {
      "image/png": "[encoded data removed]",
      "text/plain": [
       "<Figure size 432x288 with 1 Axes>"
      ]
     },
     "metadata": {
      "needs_background": "light",
      "tags": []
     },
     "output_type": "display_data"
    }
   ],
   "source": [
    "sns.boxplot(dataframe.charges)"
   ]
  },
  {
   "cell_type": "markdown",
   "metadata": {
    "id": "CRf93ILoC3zu"
   },
   "source": [
    "Data is right skewed and has many outliers, median value looks like 10000 and outliers are greater than 40000."
   ]
  },
  {
   "cell_type": "code",
   "execution_count": 183,
   "metadata": {
    "colab": {
     "base_uri": "https://localhost:8080/"
    },
    "id": "HcuBsJXNEkM9",
    "outputId": "19998a84-4696-44b4-eb7a-f909885669db"
   },
   "outputs": [
    {
     "data": {
      "text/plain": [
       "count     1271.000000\n",
       "mean     14888.432516\n",
       "std      13611.709658\n",
       "min       1256.498768\n",
       "25%       5285.127456\n",
       "50%      10518.307520\n",
       "75%      18861.548126\n",
       "max      71422.879371\n",
       "Name: charges, dtype: float64"
      ]
     },
     "execution_count": 183,
     "metadata": {
      "tags": []
     },
     "output_type": "execute_result"
    }
   ],
   "source": [
    "dataframe.charges.describe()"
   ]
  },
  {
   "cell_type": "code",
   "execution_count": 184,
   "metadata": {
    "colab": {
     "base_uri": "https://localhost:8080/",
     "height": 386
    },
    "id": "ZuQ-IjidD5N0",
    "outputId": "9b0f0559-6617-422d-adcc-e7c8cfaf55a0"
   },
   "outputs": [
    {
     "data": {
      "text/plain": [
       "<seaborn.axisgrid.FacetGrid at 0x7fd3d503e828>"
      ]
     },
     "execution_count": 184,
     "metadata": {
      "tags": []
     },
     "output_type": "execute_result"
    },
    {
     "data": {
      "image/png": "[encoded data removed]",
      "text/plain": [
       "<Figure size 430.5x360 with 1 Axes>"
      ]
     },
     "metadata": {
      "needs_background": "light",
      "tags": []
     },
     "output_type": "display_data"
    }
   ],
   "source": [
    "sns.displot(dataframe,x='charges', hue='sex')"
   ]
  },
  {
   "cell_type": "markdown",
   "metadata": {
    "id": "Xs-7ngY4EkM9"
   },
   "source": [
    "## Step 2: Prepare the dataset for training\n",
    "\n",
    "We need to convert the data from the Pandas dataframe into a PyTorch tensors for training. To do this, the first step is to convert it numpy arrays. If you've filled out `input_cols`, `categorial_cols` and `output_cols` correctly, this following function will perform the conversion to numpy arrays."
   ]
  },
  {
   "cell_type": "code",
   "execution_count": 185,
   "metadata": {
    "id": "jTI1EW_MEkM9"
   },
   "outputs": [],
   "source": [
    "def dataframe_to_arrays(dataframe):\n",
    "    # Make a copy of the original dataframe\n",
    "    dataframe1 = dataframe.copy(deep=True)\n",
    "    # Convert non-numeric categorical columns to numbers\n",
    "    for col in categorical_cols:\n",
    "        dataframe1[col] = dataframe1[col].astype('category').cat.codes\n",
    "    # Extract input & outupts as numpy arrays\n",
    "    inputs_array = dataframe1[input_cols].to_numpy()\n",
    "    targets_array = dataframe1[output_cols].to_numpy()\n",
    "    return inputs_array, targets_array"
   ]
  },
  {
   "cell_type": "markdown",
   "metadata": {
    "id": "1e_QQVg1EkM9"
   },
   "source": [
    "Read through the [Pandas documentation](https://pandas.pydata.org/pandas-docs/stable/user_guide/categorical.html) to understand how we're converting categorical variables into numbers."
   ]
  },
  {
   "cell_type": "code",
   "execution_count": 186,
   "metadata": {
    "colab": {
     "base_uri": "https://localhost:8080/"
    },
    "id": "Q2GGhyGMEkM-",
    "outputId": "86229b69-7ecc-49fc-f66d-ccbd24fc05ee"
   },
   "outputs": [
    {
     "data": {
      "text/plain": [
       "(array([[55.    ,  0.    , 37.3635,  2.    ,  0.    ],\n",
       "        [64.    ,  1.    , 43.2117,  0.    ,  0.    ],\n",
       "        [55.    ,  1.    , 42.9951,  3.    ,  0.    ],\n",
       "        ...,\n",
       "        [56.    ,  1.    , 29.5659,  0.    ,  0.    ],\n",
       "        [18.    ,  0.    , 34.5477,  0.    ,  0.    ],\n",
       "        [43.    ,  1.    , 29.6742,  0.    ,  0.    ]]), array([[13740.86812 ],\n",
       "        [15915.800264],\n",
       "        [33671.210216],\n",
       "        ...,\n",
       "        [12505.267768],\n",
       "        [ 2468.184264],\n",
       "        [ 7657.852944]]))"
      ]
     },
     "execution_count": 186,
     "metadata": {
      "tags": []
     },
     "output_type": "execute_result"
    }
   ],
   "source": [
    "inputs_array, targets_array = dataframe_to_arrays(dataframe)\n",
    "inputs_array, targets_array"
   ]
  },
  {
   "cell_type": "code",
   "execution_count": 72,
   "metadata": {
    "colab": {
     "base_uri": "https://localhost:8080/"
    },
    "id": "PtGj2_q1kZ3a",
    "outputId": "cdf3d444-c98e-4905-88a6-bbcbf095aade"
   },
   "outputs": [
    {
     "data": {
      "text/plain": [
       "((1271, 5), (1271, 1))"
      ]
     },
     "execution_count": 72,
     "metadata": {
      "tags": []
     },
     "output_type": "execute_result"
    }
   ],
   "source": [
    "# inputs_array.reshape(-1,5).shape, targets_array.reshape(-1,1).shape"
   ]
  },
  {
   "cell_type": "markdown",
   "metadata": {
    "id": "zIWKtLTfqENP"
   },
   "source": [
    "**Let's standardize the data as the values have outliers and varied**"
   ]
  },
  {
   "cell_type": "code",
   "execution_count": 112,
   "metadata": {
    "id": "4r5zixaljlo-"
   },
   "outputs": [],
   "source": [
    "# sc = MinMaxScaler()\n",
    "# sct = MinMaxScaler()\n",
    "# inputs_array =sc.fit_transform(inputs_array.reshape(-1,5))\n",
    "# targets_array =sct.fit_transform(targets_array.reshape(-1,1))"
   ]
  },
  {
   "cell_type": "markdown",
   "metadata": {
    "id": "Fo1DyGC-EkM-"
   },
   "source": [
    "**Q: Convert the numpy arrays `inputs_array` and `targets_array` into PyTorch tensors. Make sure that the data type is `torch.float32`.**"
   ]
  },
  {
   "cell_type": "code",
   "execution_count": 187,
   "metadata": {
    "id": "HjxzXi9IEkM-"
   },
   "outputs": [],
   "source": [
    "inputs = torch.tensor(inputs_array).type(torch.float32)\n",
    "# inputs = inputs.view(-1,5)\n",
    "targets = torch.tensor(targets_array).type(torch.float32)\n",
    "# targets = targets.view(-1,1)"
   ]
  },
  {
   "cell_type": "code",
   "execution_count": 188,
   "metadata": {
    "colab": {
     "base_uri": "https://localhost:8080/"
    },
    "id": "DOwR9JMOEkM-",
    "outputId": "5aba6d97-b772-4cb5-bccf-9930cf3076c9"
   },
   "outputs": [
    {
     "data": {
      "text/plain": [
       "(torch.float32, torch.float32)"
      ]
     },
     "execution_count": 188,
     "metadata": {
      "tags": []
     },
     "output_type": "execute_result"
    }
   ],
   "source": [
    "inputs.dtype, targets.dtype"
   ]
  },
  {
   "cell_type": "markdown",
   "metadata": {
    "id": "lS-LH-HREkM-"
   },
   "source": [
    "Next, we need to create PyTorch datasets & data loaders for training & validation. We'll start by creating a `TensorDataset`."
   ]
  },
  {
   "cell_type": "code",
   "execution_count": 189,
   "metadata": {
    "id": "hSMr7jn6EkM-"
   },
   "outputs": [],
   "source": [
    "dataset = TensorDataset(inputs, targets)"
   ]
  },
  {
   "cell_type": "markdown",
   "metadata": {
    "id": "SZOf2jmeEkM-"
   },
   "source": [
    "**Q: Pick a number between `0.1` and `0.2` to determine the fraction of data that will be used for creating the validation set. Then use `random_split` to create training & validation datasets.**"
   ]
  },
  {
   "cell_type": "code",
   "execution_count": 190,
   "metadata": {
    "id": "TKpm2F6YEkM-"
   },
   "outputs": [],
   "source": [
    "val_percent = 0.15 # between 0.1 and 0.2\n",
    "val_size = int(num_rows * val_percent)\n",
    "train_size = num_rows - val_size\n",
    "\n",
    "# Use the random_split function to split dataset into 2 parts of the desired length\n",
    "train_ds, val_ds = random_split(dataset,[train_size, val_size])"
   ]
  },
  {
   "cell_type": "code",
   "execution_count": 191,
   "metadata": {
    "colab": {
     "base_uri": "https://localhost:8080/"
    },
    "id": "fw2My4siLGzj",
    "outputId": "4fa55050-3d01-4a6f-aa8a-cc9460b629dd"
   },
   "outputs": [
    {
     "data": {
      "text/plain": [
       "(1081, 190)"
      ]
     },
     "execution_count": 191,
     "metadata": {
      "tags": []
     },
     "output_type": "execute_result"
    }
   ],
   "source": [
    "len(train_ds),len(val_ds)"
   ]
  },
  {
   "cell_type": "code",
   "execution_count": 192,
   "metadata": {
    "colab": {
     "base_uri": "https://localhost:8080/"
    },
    "id": "gab9P7SsWBZ3",
    "outputId": "d8e57cd7-4bf9-4523-d8bc-4826258a36c6"
   },
   "outputs": [
    {
     "data": {
      "text/plain": [
       "((tensor([25.0000,  0.0000, 27.7020,  3.0000,  0.0000]), tensor([4918.6504])),\n",
       " (tensor([37.0000,  0.0000, 35.0892,  0.0000,  1.0000]), tensor([41742.5703])))"
      ]
     },
     "execution_count": 192,
     "metadata": {
      "tags": []
     },
     "output_type": "execute_result"
    }
   ],
   "source": [
    "train_ds[0],val_ds[0]"
   ]
  },
  {
   "cell_type": "markdown",
   "metadata": {
    "id": "eHVwEW2UEkM-"
   },
   "source": [
    "Finally, we can create data loaders for training & validation.\n",
    "\n",
    "**Q: Pick a batch size for the data loader.**"
   ]
  },
  {
   "cell_type": "code",
   "execution_count": 193,
   "metadata": {
    "id": "67sr6TCOEkM-"
   },
   "outputs": [],
   "source": [
    "batch_size = 80"
   ]
  },
  {
   "cell_type": "code",
   "execution_count": 194,
   "metadata": {
    "id": "Q-rFjwnxEkM-"
   },
   "outputs": [],
   "source": [
    "train_loader = DataLoader(train_ds, batch_size, shuffle=True)\n",
    "val_loader = DataLoader(val_ds, batch_size)"
   ]
  },
  {
   "cell_type": "markdown",
   "metadata": {
    "id": "-lnAB5W4EkM-"
   },
   "source": [
    "Let's look at a batch of data to verify everything is working fine so far."
   ]
  },
  {
   "cell_type": "code",
   "execution_count": 195,
   "metadata": {
    "colab": {
     "base_uri": "https://localhost:8080/"
    },
    "id": "aKXbd1z0EkM-",
    "outputId": "45e35d86-7c60-41b5-c719-a711810ab2bf"
   },
   "outputs": [
    {
     "name": "stdout",
     "output_type": "stream",
     "text": [
      "inputs: tensor([[28.0000,  0.0000, 27.1833,  2.0000,  0.0000],\n",
      "        [52.0000,  0.0000, 36.1722,  2.0000,  0.0000],\n",
      "        [46.0000,  0.0000, 32.9460,  2.0000,  0.0000],\n",
      "        [59.0000,  1.0000, 32.8149,  0.0000,  0.0000],\n",
      "        [42.0000,  0.0000, 43.2060,  0.0000,  0.0000],\n",
      "        [21.0000,  1.0000, 35.3628,  0.0000,  0.0000],\n",
      "        [37.0000,  0.0000, 19.7106,  2.0000,  0.0000],\n",
      "        [57.0000,  1.0000, 48.0282,  1.0000,  1.0000],\n",
      "        [60.0000,  0.0000, 41.0457,  0.0000,  0.0000],\n",
      "        [30.0000,  1.0000, 43.0920,  2.0000,  1.0000],\n",
      "        [18.0000,  1.0000, 46.8996,  0.0000,  0.0000],\n",
      "        [18.0000,  0.0000, 43.5138,  0.0000,  0.0000],\n",
      "        [43.0000,  1.0000, 31.6920,  0.0000,  1.0000],\n",
      "        [19.0000,  1.0000, 31.4640,  0.0000,  0.0000],\n",
      "        [59.0000,  0.0000, 39.6720,  2.0000,  0.0000],\n",
      "        [36.0000,  0.0000, 33.1056,  4.0000,  0.0000],\n",
      "        [23.0000,  0.0000, 35.7960,  0.0000,  1.0000],\n",
      "        [34.0000,  1.0000, 31.7319,  1.0000,  1.0000],\n",
      "        [32.0000,  0.0000, 46.8540,  0.0000,  0.0000],\n",
      "        [19.0000,  0.0000, 31.8402,  3.0000,  0.0000],\n",
      "        [18.0000,  1.0000, 33.4818,  1.0000,  0.0000],\n",
      "        [45.0000,  1.0000, 34.4280,  1.0000,  0.0000],\n",
      "        [39.0000,  0.0000, 38.8740,  3.0000,  0.0000],\n",
      "        [28.0000,  1.0000, 36.1152,  0.0000,  1.0000],\n",
      "        [41.0000,  1.0000, 35.0892,  3.0000,  1.0000],\n",
      "        [36.0000,  0.0000, 29.4576,  0.0000,  0.0000],\n",
      "        [33.0000,  0.0000, 45.3948,  1.0000,  0.0000],\n",
      "        [54.0000,  0.0000, 54.0474,  0.0000,  1.0000],\n",
      "        [50.0000,  0.0000, 38.4180,  4.0000,  0.0000],\n",
      "        [33.0000,  0.0000, 44.3460,  3.0000,  0.0000],\n",
      "        [64.0000,  0.0000, 44.8362,  0.0000,  0.0000],\n",
      "        [19.0000,  1.0000, 29.1327,  0.0000,  0.0000],\n",
      "        [18.0000,  0.0000, 43.6392,  0.0000,  0.0000],\n",
      "        [26.0000,  1.0000, 40.3788,  0.0000,  0.0000],\n",
      "        [50.0000,  0.0000, 31.1904,  0.0000,  0.0000],\n",
      "        [45.0000,  0.0000, 31.5153,  1.0000,  0.0000],\n",
      "        [22.0000,  1.0000, 28.6995,  0.0000,  0.0000],\n",
      "        [53.0000,  1.0000, 35.7390,  0.0000,  0.0000],\n",
      "        [18.0000,  0.0000, 34.3311,  0.0000,  0.0000],\n",
      "        [28.0000,  0.0000, 32.9232,  1.0000,  0.0000],\n",
      "        [51.0000,  0.0000, 41.4789,  3.0000,  0.0000],\n",
      "        [25.0000,  0.0000, 25.6671,  1.0000,  0.0000],\n",
      "        [23.0000,  0.0000, 37.3692,  2.0000,  1.0000],\n",
      "        [48.0000,  1.0000, 35.8473,  1.0000,  0.0000],\n",
      "        [44.0000,  1.0000, 42.2940,  2.0000,  0.0000],\n",
      "        [51.0000,  1.0000, 36.0639,  0.0000,  0.0000],\n",
      "        [36.0000,  0.0000, 30.6489,  0.0000,  0.0000],\n",
      "        [27.0000,  1.0000, 34.5420,  3.0000,  0.0000],\n",
      "        [29.0000,  0.0000, 24.9090,  0.0000,  1.0000],\n",
      "        [41.0000,  0.0000, 37.1640,  3.0000,  0.0000],\n",
      "        [48.0000,  1.0000, 34.4280,  2.0000,  0.0000],\n",
      "        [37.0000,  0.0000, 35.1120,  2.0000,  0.0000],\n",
      "        [33.0000,  0.0000, 41.3706,  3.0000,  0.0000],\n",
      "        [33.0000,  0.0000, 32.2278,  1.0000,  0.0000],\n",
      "        [57.0000,  1.0000, 35.9556,  0.0000,  0.0000],\n",
      "        [38.0000,  0.0000, 46.2441,  1.0000,  0.0000],\n",
      "        [30.0000,  1.0000, 31.5153,  1.0000,  0.0000],\n",
      "        [58.0000,  1.0000, 39.2046,  0.0000,  0.0000],\n",
      "        [28.0000,  0.0000, 37.6200,  2.0000,  0.0000],\n",
      "        [31.0000,  1.0000, 45.0186,  1.0000,  0.0000],\n",
      "        [25.0000,  0.0000, 30.5406,  2.0000,  0.0000],\n",
      "        [36.0000,  1.0000, 31.4070,  3.0000,  0.0000],\n",
      "        [52.0000,  1.0000, 39.3129,  3.0000,  1.0000],\n",
      "        [31.0000,  1.0000, 29.5659,  1.0000,  0.0000],\n",
      "        [49.0000,  0.0000, 27.1833,  3.0000,  1.0000],\n",
      "        [56.0000,  1.0000, 38.3382,  0.0000,  1.0000],\n",
      "        [50.0000,  1.0000, 36.6054,  2.0000,  0.0000],\n",
      "        [25.0000,  0.0000, 48.0282,  1.0000,  0.0000],\n",
      "        [34.0000,  0.0000, 30.4722,  1.0000,  0.0000],\n",
      "        [32.0000,  0.0000, 33.7326,  1.0000,  0.0000],\n",
      "        [21.0000,  0.0000, 45.0186,  0.0000,  0.0000],\n",
      "        [47.0000,  0.0000, 26.9040,  1.0000,  0.0000],\n",
      "        [60.0000,  1.0000, 35.7390,  3.0000,  1.0000],\n",
      "        [53.0000,  0.0000, 30.3240,  0.0000,  0.0000],\n",
      "        [46.0000,  1.0000, 50.0346,  3.0000,  0.0000],\n",
      "        [29.0000,  0.0000, 23.0679,  2.0000,  0.0000],\n",
      "        [55.0000,  0.0000, 38.2299,  2.0000,  0.0000],\n",
      "        [47.0000,  0.0000, 33.4818,  1.0000,  0.0000],\n",
      "        [63.0000,  0.0000, 42.0090,  0.0000,  0.0000],\n",
      "        [42.0000,  0.0000, 33.0600,  1.0000,  0.0000]])\n",
      "targets: tensor([[ 5286.1050],\n",
      "        [12530.1758],\n",
      "        [ 9882.0723],\n",
      "        [13585.1680],\n",
      "        [ 7250.8945],\n",
      "        [18576.8770],\n",
      "        [ 7703.3379],\n",
      "        [54516.5781],\n",
      "        [14816.3086],\n",
      "        [43950.4141],\n",
      "        [ 1284.4122],\n",
      "        [ 1827.4685],\n",
      "        [42369.2930],\n",
      "        [ 1402.6958],\n",
      "        [41339.8828],\n",
      "        [ 8113.0713],\n",
      "        [38266.2266],\n",
      "        [22410.7891],\n",
      "        [ 4468.6221],\n",
      "        [21099.3477],\n",
      "        [ 1925.7687],\n",
      "        [ 8333.9795],\n",
      "        [ 8308.7451],\n",
      "        [38832.8047],\n",
      "        [44349.0977],\n",
      "        [ 5898.3296],\n",
      "        [ 5371.1357],\n",
      "        [71422.8828],\n",
      "        [12655.2637],\n",
      "        [ 6689.0635],\n",
      "        [16689.6992],\n",
      "        [ 1828.4722],\n",
      "        [15829.0020],\n",
      "        [ 2601.3364],\n",
      "        [28735.3652],\n",
      "        [31741.0117],\n",
      "        [ 2291.1675],\n",
      "        [30627.5664],\n",
      "        [23906.2285],\n",
      "        [ 4858.2632],\n",
      "        [12809.1465],\n",
      "        [ 4025.4714],\n",
      "        [40343.5312],\n",
      "        [10039.7480],\n",
      "        [ 8669.1777],\n",
      "        [10275.0322],\n",
      "        [ 5899.9565],\n",
      "        [ 4772.0332],\n",
      "        [18049.1406],\n",
      "        [ 8909.0586],\n",
      "        [10044.5293],\n",
      "        [ 7071.4102],\n",
      "        [ 7337.9600],\n",
      "        [ 5353.1548],\n",
      "        [12715.6152],\n",
      "        [ 7138.3843],\n",
      "        [ 4745.5815],\n",
      "        [13153.2061],\n",
      "        [ 4871.3975],\n",
      "        [ 4340.8223],\n",
      "        [ 4691.8066],\n",
      "        [ 7556.3516],\n",
      "        [67223.9688],\n",
      "        [ 4748.6797],\n",
      "        [26999.7422],\n",
      "        [49191.7266],\n",
      "        [28373.3320],\n",
      "        [ 3627.0481],\n",
      "        [ 5603.1167],\n",
      "        [ 5110.3833],\n",
      "        [ 2270.2109],\n",
      "        [ 9564.4316],\n",
      "        [51666.1914],\n",
      "        [11598.3184],\n",
      "        [10017.4092],\n",
      "        [ 5495.1787],\n",
      "        [13742.0518],\n",
      "        [ 9573.4141],\n",
      "        [15554.5244],\n",
      "        [ 7896.7192]])\n"
     ]
    }
   ],
   "source": [
    "for xb, yb in train_loader:\n",
    "    print(\"inputs:\", xb)\n",
    "    print(\"targets:\", yb)\n",
    "    break"
   ]
  },
  {
   "cell_type": "markdown",
   "metadata": {
    "id": "OtG5yw4TEkM-"
   },
   "source": [
    "## Step 3: Create a Linear Regression Model\n",
    "\n",
    "Our model itself is a fairly straightforward linear regression (we'll build more complex models in the next assignment). \n"
   ]
  },
  {
   "cell_type": "code",
   "execution_count": 196,
   "metadata": {
    "colab": {
     "base_uri": "https://localhost:8080/"
    },
    "id": "duX6mdY6EkM-",
    "outputId": "ff5780b5-6279-43f1-fcc6-a90afb1ed34d"
   },
   "outputs": [
    {
     "data": {
      "text/plain": [
       "(5, 1)"
      ]
     },
     "execution_count": 196,
     "metadata": {
      "tags": []
     },
     "output_type": "execute_result"
    }
   ],
   "source": [
    "input_size = len(input_cols)\n",
    "output_size = len(output_cols)\n",
    "input_size, output_size"
   ]
  },
  {
   "cell_type": "markdown",
   "metadata": {
    "id": "TStwFkE3EkM-"
   },
   "source": [
    "**Q: Complete the class definition below by filling out the constructor (`__init__`), `forward`, `training_step` and `validation_step` methods.**\n",
    "\n",
    "Hint: Think carefully about picking a good loss fuction (it's not cross entropy). Maybe try 2-3 of them and see which one works best. See https://pytorch.org/docs/stable/nn.functional.html#loss-functions"
   ]
  },
  {
   "cell_type": "code",
   "execution_count": 197,
   "metadata": {
    "id": "Pq9R4awGEkM-"
   },
   "outputs": [],
   "source": [
    "class InsuranceModel(nn.Module):\n",
    "    def __init__(self):\n",
    "        super().__init__()\n",
    "        self.linear = nn.Linear(input_size,output_size) \n",
    "        \n",
    "    def forward(self, xb):\n",
    "        out = self.linear(xb)                          # fill this\n",
    "        return out\n",
    "    \n",
    "    def training_step(self, batch):\n",
    "        inputs, targets = batch \n",
    "        # Generate predictions\n",
    "        out = self(inputs)          \n",
    "        # Calcuate loss\n",
    "        # loss = F.mse_loss(out, targets)                         # fill this\n",
    "        loss = F.l1_loss(out, target)\n",
    "        # loss = nn.MSELoss(out,targets)\n",
    "        return loss\n",
    "    \n",
    "    def validation_step(self, batch):\n",
    "        inputs, targets = batch\n",
    "        # Generate predictions\n",
    "        out = self(inputs)\n",
    "        # Calculate loss\n",
    "        # loss = F.mse_loss(out, targets)                          # fill this    \n",
    "        loss = F.l1_loss(out, target)\n",
    "        # loss = nn.MSELoss(out,targets)\n",
    "        return {'val_loss': loss.detach()}\n",
    "        \n",
    "    def validation_epoch_end(self, outputs):\n",
    "        batch_losses = [x['val_loss'] for x in outputs]\n",
    "        epoch_loss = torch.stack(batch_losses).mean()   # Combine losses\n",
    "        return {'val_loss': epoch_loss.item()}\n",
    "    \n",
    "    def epoch_end(self, epoch, result, num_epochs):\n",
    "        # Print result every 20th epoch\n",
    "        if (epoch+1) % 20 == 0 or epoch == num_epochs-1:\n",
    "            print(\"Epoch [{}], val_loss: {:.4f}\".format(epoch+1, result['val_loss']))"
   ]
  },
  {
   "cell_type": "markdown",
   "metadata": {
    "id": "Uh5b9TfuEkM-"
   },
   "source": [
    "Let us create a model using the `InsuranceModel` class. You may need to come back later and re-run the next cell to reinitialize the model, in case the loss becomes `nan` or `infinity`."
   ]
  },
  {
   "cell_type": "code",
   "execution_count": 240,
   "metadata": {
    "id": "izsV0e85EkM-"
   },
   "outputs": [],
   "source": [
    "model = InsuranceModel()"
   ]
  },
  {
   "cell_type": "markdown",
   "metadata": {
    "id": "dl1jq76PEkM-"
   },
   "source": [
    "Let's check out the weights and biases of the model using `model.parameters`."
   ]
  },
  {
   "cell_type": "code",
   "execution_count": 241,
   "metadata": {
    "colab": {
     "base_uri": "https://localhost:8080/"
    },
    "id": "wlh72TYBEkM_",
    "outputId": "a87a306c-c296-43b0-9c63-faf43dbba368"
   },
   "outputs": [
    {
     "data": {
      "text/plain": [
       "[Parameter containing:\n",
       " tensor([[-0.2004, -0.2003,  0.0757,  0.3888, -0.1100]], requires_grad=True),\n",
       " Parameter containing:\n",
       " tensor([0.3410], requires_grad=True)]"
      ]
     },
     "execution_count": 241,
     "metadata": {
      "tags": []
     },
     "output_type": "execute_result"
    }
   ],
   "source": [
    "list(model.parameters())"
   ]
  },
  {
   "cell_type": "markdown",
   "metadata": {
    "id": "BmYVTpCBEkM_"
   },
   "source": [
    "## Step 4: Train the model to fit the data\n",
    "\n",
    "To train our model, we'll use the same `fit` function explained in the lecture. That's the benefit of defining a generic training loop - you can use it for any problem."
   ]
  },
  {
   "cell_type": "code",
   "execution_count": 200,
   "metadata": {
    "id": "j1G4U81IEkM_"
   },
   "outputs": [],
   "source": [
    "def evaluate(model, val_loader):\n",
    "    outputs = [model.validation_step(batch) for batch in val_loader]\n",
    "    return model.validation_epoch_end(outputs)\n",
    "\n",
    "def fit(epochs, lr, model, train_loader, val_loader, opt_func=torch.optim.SGD):\n",
    "    history = []\n",
    "    optimizer = opt_func(model.parameters(), lr)\n",
    "    for epoch in range(epochs):\n",
    "        # Training Phase \n",
    "        for batch in train_loader:\n",
    "            loss = model.training_step(batch)\n",
    "            loss.backward()\n",
    "            optimizer.step()\n",
    "            optimizer.zero_grad()\n",
    "        # Validation phase\n",
    "        result = evaluate(model, val_loader)\n",
    "        model.epoch_end(epoch, result, epochs)\n",
    "        history.append(result)\n",
    "    return history"
   ]
  },
  {
   "cell_type": "markdown",
   "metadata": {
    "id": "HweIzcBKEkM_"
   },
   "source": [
    "**Q: Use the `evaluate` function to calculate the loss on the validation set before training.**"
   ]
  },
  {
   "cell_type": "code",
   "execution_count": 242,
   "metadata": {
    "colab": {
     "base_uri": "https://localhost:8080/"
    },
    "id": "TUX9sel_EkM_",
    "outputId": "3bb8bc97-69f7-41d1-9e56-21c64de1a8c2"
   },
   "outputs": [
    {
     "name": "stdout",
     "output_type": "stream",
     "text": [
      "{'val_loss': 14030.7294921875}\n"
     ]
    },
    {
     "name": "stderr",
     "output_type": "stream",
     "text": [
      "/usr/local/lib/python3.6/dist-packages/ipykernel_launcher.py:26: UserWarning: Using a target size (torch.Size([1])) that is different to the input size (torch.Size([80, 1])). This will likely lead to incorrect results due to broadcasting. Please ensure they have the same size.\n",
      "/usr/local/lib/python3.6/dist-packages/ipykernel_launcher.py:26: UserWarning: Using a target size (torch.Size([1])) that is different to the input size (torch.Size([30, 1])). This will likely lead to incorrect results due to broadcasting. Please ensure they have the same size.\n"
     ]
    }
   ],
   "source": [
    "result = evaluate(model, val_loader) # Use the the evaluate function\n",
    "print(result)"
   ]
  },
  {
   "cell_type": "markdown",
   "metadata": {
    "id": "C_iHtoe6EkM_"
   },
   "source": [
    "\n",
    "We are now ready to train the model. You may need to run the training loop many times, for different number of epochs and with different learning rates, to get a good result. Also, if your loss becomes too large (or `nan`), you may have to re-initialize the model by running the cell `model = InsuranceModel()`. Experiment with this for a while, and try to get to as low a loss as possible."
   ]
  },
  {
   "cell_type": "markdown",
   "metadata": {
    "id": "Bt-3d9O5EkM_"
   },
   "source": [
    "**Q: Train the model 4-5 times with different learning rates & for different number of epochs.**\n",
    "\n",
    "Hint: Vary learning rates by orders of 10 (e.g. `1e-2`, `1e-3`, `1e-4`, `1e-5`, `1e-6`) to figure out what works."
   ]
  },
  {
   "cell_type": "code",
   "execution_count": 243,
   "metadata": {
    "colab": {
     "base_uri": "https://localhost:8080/"
    },
    "id": "fw9VKSDyEkM_",
    "outputId": "ce09ff45-6125-4286-b946-b7810302e790"
   },
   "outputs": [
    {
     "name": "stderr",
     "output_type": "stream",
     "text": [
      "/usr/local/lib/python3.6/dist-packages/ipykernel_launcher.py:16: UserWarning: Using a target size (torch.Size([1])) that is different to the input size (torch.Size([80, 1])). This will likely lead to incorrect results due to broadcasting. Please ensure they have the same size.\n",
      "  app.launch_new_instance()\n",
      "/usr/local/lib/python3.6/dist-packages/ipykernel_launcher.py:16: UserWarning: Using a target size (torch.Size([1])) that is different to the input size (torch.Size([41, 1])). This will likely lead to incorrect results due to broadcasting. Please ensure they have the same size.\n",
      "  app.launch_new_instance()\n",
      "/usr/local/lib/python3.6/dist-packages/ipykernel_launcher.py:26: UserWarning: Using a target size (torch.Size([1])) that is different to the input size (torch.Size([80, 1])). This will likely lead to incorrect results due to broadcasting. Please ensure they have the same size.\n",
      "/usr/local/lib/python3.6/dist-packages/ipykernel_launcher.py:26: UserWarning: Using a target size (torch.Size([1])) that is different to the input size (torch.Size([30, 1])). This will likely lead to incorrect results due to broadcasting. Please ensure they have the same size.\n"
     ]
    },
    {
     "name": "stdout",
     "output_type": "stream",
     "text": [
      "Epoch [20], val_loss: 6352.9224\n",
      "Epoch [40], val_loss: 2669.2825\n",
      "Epoch [60], val_loss: 2475.2209\n",
      "Epoch [80], val_loss: 2390.7744\n",
      "Epoch [100], val_loss: 2315.3708\n"
     ]
    },
    {
     "data": {
      "text/plain": [
       "[{'val_loss': 13647.5859375},\n",
       " {'val_loss': 13263.9296875},\n",
       " {'val_loss': 12880.1103515625},\n",
       " {'val_loss': 12495.9248046875},\n",
       " {'val_loss': 12112.0654296875},\n",
       " {'val_loss': 11728.7333984375},\n",
       " {'val_loss': 11344.6025390625},\n",
       " {'val_loss': 10960.8134765625},\n",
       " {'val_loss': 10577.2470703125},\n",
       " {'val_loss': 10192.7509765625},\n",
       " {'val_loss': 9809.7724609375},\n",
       " {'val_loss': 9425.015625},\n",
       " {'val_loss': 9040.2265625},\n",
       " {'val_loss': 8655.0751953125},\n",
       " {'val_loss': 8271.87109375},\n",
       " {'val_loss': 7888.22314453125},\n",
       " {'val_loss': 7504.04638671875},\n",
       " {'val_loss': 7119.791015625},\n",
       " {'val_loss': 6736.52490234375},\n",
       " {'val_loss': 6352.92236328125},\n",
       " {'val_loss': 5969.0078125},\n",
       " {'val_loss': 5584.74267578125},\n",
       " {'val_loss': 5200.04345703125},\n",
       " {'val_loss': 4817.80810546875},\n",
       " {'val_loss': 4445.89990234375},\n",
       " {'val_loss': 4110.69287109375},\n",
       " {'val_loss': 3830.520751953125},\n",
       " {'val_loss': 3592.686279296875},\n",
       " {'val_loss': 3394.518310546875},\n",
       " {'val_loss': 3233.251953125},\n",
       " {'val_loss': 3104.486572265625},\n",
       " {'val_loss': 3003.140625},\n",
       " {'val_loss': 2928.966796875},\n",
       " {'val_loss': 2869.100830078125},\n",
       " {'val_loss': 2821.254638671875},\n",
       " {'val_loss': 2781.607666015625},\n",
       " {'val_loss': 2749.8623046875},\n",
       " {'val_loss': 2719.513916015625},\n",
       " {'val_loss': 2692.7451171875},\n",
       " {'val_loss': 2669.282470703125},\n",
       " {'val_loss': 2649.349609375},\n",
       " {'val_loss': 2632.066162109375},\n",
       " {'val_loss': 2617.285400390625},\n",
       " {'val_loss': 2603.01611328125},\n",
       " {'val_loss': 2589.7568359375},\n",
       " {'val_loss': 2578.1298828125},\n",
       " {'val_loss': 2566.518310546875},\n",
       " {'val_loss': 2556.488037109375},\n",
       " {'val_loss': 2547.8486328125},\n",
       " {'val_loss': 2538.463134765625},\n",
       " {'val_loss': 2530.437744140625},\n",
       " {'val_loss': 2522.184814453125},\n",
       " {'val_loss': 2515.122802734375},\n",
       " {'val_loss': 2508.919189453125},\n",
       " {'val_loss': 2502.847900390625},\n",
       " {'val_loss': 2496.362060546875},\n",
       " {'val_loss': 2490.3896484375},\n",
       " {'val_loss': 2485.2705078125},\n",
       " {'val_loss': 2480.203857421875},\n",
       " {'val_loss': 2475.220947265625},\n",
       " {'val_loss': 2470.804931640625},\n",
       " {'val_loss': 2466.291748046875},\n",
       " {'val_loss': 2461.3359375},\n",
       " {'val_loss': 2456.728759765625},\n",
       " {'val_loss': 2452.338623046875},\n",
       " {'val_loss': 2448.182861328125},\n",
       " {'val_loss': 2444.378173828125},\n",
       " {'val_loss': 2440.095947265625},\n",
       " {'val_loss': 2435.840576171875},\n",
       " {'val_loss': 2431.758056640625},\n",
       " {'val_loss': 2427.463134765625},\n",
       " {'val_loss': 2422.93115234375},\n",
       " {'val_loss': 2418.4931640625},\n",
       " {'val_loss': 2414.222412109375},\n",
       " {'val_loss': 2410.8583984375},\n",
       " {'val_loss': 2406.5361328125},\n",
       " {'val_loss': 2402.344970703125},\n",
       " {'val_loss': 2398.326904296875},\n",
       " {'val_loss': 2394.221435546875},\n",
       " {'val_loss': 2390.7744140625},\n",
       " {'val_loss': 2386.504150390625},\n",
       " {'val_loss': 2383.1484375},\n",
       " {'val_loss': 2378.975341796875},\n",
       " {'val_loss': 2375.009521484375},\n",
       " {'val_loss': 2371.485107421875},\n",
       " {'val_loss': 2368.077392578125},\n",
       " {'val_loss': 2363.9091796875},\n",
       " {'val_loss': 2360.278076171875},\n",
       " {'val_loss': 2356.111572265625},\n",
       " {'val_loss': 2352.026611328125},\n",
       " {'val_loss': 2348.4638671875},\n",
       " {'val_loss': 2344.862548828125},\n",
       " {'val_loss': 2341.1884765625},\n",
       " {'val_loss': 2337.390869140625},\n",
       " {'val_loss': 2333.524169921875},\n",
       " {'val_loss': 2330.144775390625},\n",
       " {'val_loss': 2326.350830078125},\n",
       " {'val_loss': 2322.622802734375},\n",
       " {'val_loss': 2318.98046875},\n",
       " {'val_loss': 2315.370849609375}]"
      ]
     },
     "execution_count": 243,
     "metadata": {
      "tags": []
     },
     "output_type": "execute_result"
    }
   ],
   "source": [
    "epochs = 100\n",
    "lr = 1e-2\n",
    "history1 = fit(epochs, lr, model, train_loader, val_loader)\n",
    "history1"
   ]
  },
  {
   "cell_type": "code",
   "execution_count": 244,
   "metadata": {
    "colab": {
     "base_uri": "https://localhost:8080/"
    },
    "id": "5JTOVJCtEkM_",
    "outputId": "5bff2213-5956-457d-eb8d-c172d82dffe9"
   },
   "outputs": [
    {
     "name": "stderr",
     "output_type": "stream",
     "text": [
      "/usr/local/lib/python3.6/dist-packages/ipykernel_launcher.py:16: UserWarning: Using a target size (torch.Size([1])) that is different to the input size (torch.Size([80, 1])). This will likely lead to incorrect results due to broadcasting. Please ensure they have the same size.\n",
      "  app.launch_new_instance()\n",
      "/usr/local/lib/python3.6/dist-packages/ipykernel_launcher.py:16: UserWarning: Using a target size (torch.Size([1])) that is different to the input size (torch.Size([41, 1])). This will likely lead to incorrect results due to broadcasting. Please ensure they have the same size.\n",
      "  app.launch_new_instance()\n",
      "/usr/local/lib/python3.6/dist-packages/ipykernel_launcher.py:26: UserWarning: Using a target size (torch.Size([1])) that is different to the input size (torch.Size([80, 1])). This will likely lead to incorrect results due to broadcasting. Please ensure they have the same size.\n",
      "/usr/local/lib/python3.6/dist-packages/ipykernel_launcher.py:26: UserWarning: Using a target size (torch.Size([1])) that is different to the input size (torch.Size([30, 1])). This will likely lead to incorrect results due to broadcasting. Please ensure they have the same size.\n"
     ]
    },
    {
     "name": "stdout",
     "output_type": "stream",
     "text": [
      "Epoch [20], val_loss: 2308.6985\n",
      "Epoch [40], val_loss: 2302.3611\n",
      "Epoch [60], val_loss: 2295.9473\n",
      "Epoch [80], val_loss: 2289.5786\n",
      "Epoch [100], val_loss: 2283.3604\n"
     ]
    }
   ],
   "source": [
    "epochs = 100\n",
    "lr = 1e-3\n",
    "history2 = fit(epochs, lr, model, train_loader, val_loader)"
   ]
  },
  {
   "cell_type": "code",
   "execution_count": 245,
   "metadata": {
    "colab": {
     "base_uri": "https://localhost:8080/"
    },
    "id": "m8lqheANEkM_",
    "outputId": "2cd7c658-4db6-4e96-fef3-b6cfe4f57625"
   },
   "outputs": [
    {
     "name": "stderr",
     "output_type": "stream",
     "text": [
      "/usr/local/lib/python3.6/dist-packages/ipykernel_launcher.py:16: UserWarning: Using a target size (torch.Size([1])) that is different to the input size (torch.Size([80, 1])). This will likely lead to incorrect results due to broadcasting. Please ensure they have the same size.\n",
      "  app.launch_new_instance()\n",
      "/usr/local/lib/python3.6/dist-packages/ipykernel_launcher.py:16: UserWarning: Using a target size (torch.Size([1])) that is different to the input size (torch.Size([41, 1])). This will likely lead to incorrect results due to broadcasting. Please ensure they have the same size.\n",
      "  app.launch_new_instance()\n",
      "/usr/local/lib/python3.6/dist-packages/ipykernel_launcher.py:26: UserWarning: Using a target size (torch.Size([1])) that is different to the input size (torch.Size([80, 1])). This will likely lead to incorrect results due to broadcasting. Please ensure they have the same size.\n",
      "/usr/local/lib/python3.6/dist-packages/ipykernel_launcher.py:26: UserWarning: Using a target size (torch.Size([1])) that is different to the input size (torch.Size([30, 1])). This will likely lead to incorrect results due to broadcasting. Please ensure they have the same size.\n"
     ]
    },
    {
     "name": "stdout",
     "output_type": "stream",
     "text": [
      "Epoch [20], val_loss: 2282.7258\n",
      "Epoch [40], val_loss: 2282.1086\n",
      "Epoch [60], val_loss: 2281.4766\n",
      "Epoch [80], val_loss: 2280.8535\n",
      "Epoch [100], val_loss: 2280.2305\n"
     ]
    }
   ],
   "source": [
    "epochs = 100\n",
    "lr = 1e-4\n",
    "history3 = fit(epochs, lr, model, train_loader, val_loader)"
   ]
  },
  {
   "cell_type": "code",
   "execution_count": 246,
   "metadata": {
    "colab": {
     "base_uri": "https://localhost:8080/"
    },
    "id": "Rny4kmpXEkM_",
    "outputId": "a725c6c9-48eb-428c-c504-e174bc3cc228"
   },
   "outputs": [
    {
     "name": "stderr",
     "output_type": "stream",
     "text": [
      "/usr/local/lib/python3.6/dist-packages/ipykernel_launcher.py:16: UserWarning: Using a target size (torch.Size([1])) that is different to the input size (torch.Size([80, 1])). This will likely lead to incorrect results due to broadcasting. Please ensure they have the same size.\n",
      "  app.launch_new_instance()\n",
      "/usr/local/lib/python3.6/dist-packages/ipykernel_launcher.py:16: UserWarning: Using a target size (torch.Size([1])) that is different to the input size (torch.Size([41, 1])). This will likely lead to incorrect results due to broadcasting. Please ensure they have the same size.\n",
      "  app.launch_new_instance()\n",
      "/usr/local/lib/python3.6/dist-packages/ipykernel_launcher.py:26: UserWarning: Using a target size (torch.Size([1])) that is different to the input size (torch.Size([80, 1])). This will likely lead to incorrect results due to broadcasting. Please ensure they have the same size.\n",
      "/usr/local/lib/python3.6/dist-packages/ipykernel_launcher.py:26: UserWarning: Using a target size (torch.Size([1])) that is different to the input size (torch.Size([30, 1])). This will likely lead to incorrect results due to broadcasting. Please ensure they have the same size.\n"
     ]
    },
    {
     "name": "stdout",
     "output_type": "stream",
     "text": [
      "Epoch [20], val_loss: 2280.1677\n",
      "Epoch [40], val_loss: 2280.1045\n",
      "Epoch [60], val_loss: 2280.0415\n",
      "Epoch [80], val_loss: 2279.9788\n",
      "Epoch [100], val_loss: 2279.9167\n"
     ]
    }
   ],
   "source": [
    "epochs = 100\n",
    "lr = 1e-5\n",
    "history4 = fit(epochs, lr, model, train_loader, val_loader)"
   ]
  },
  {
   "cell_type": "code",
   "execution_count": 247,
   "metadata": {
    "colab": {
     "base_uri": "https://localhost:8080/"
    },
    "id": "bertjxkJw3HJ",
    "outputId": "78fe9a46-a1f5-43b8-c2c8-17f901979d71"
   },
   "outputs": [
    {
     "name": "stderr",
     "output_type": "stream",
     "text": [
      "/usr/local/lib/python3.6/dist-packages/ipykernel_launcher.py:16: UserWarning: Using a target size (torch.Size([1])) that is different to the input size (torch.Size([80, 1])). This will likely lead to incorrect results due to broadcasting. Please ensure they have the same size.\n",
      "  app.launch_new_instance()\n",
      "/usr/local/lib/python3.6/dist-packages/ipykernel_launcher.py:16: UserWarning: Using a target size (torch.Size([1])) that is different to the input size (torch.Size([41, 1])). This will likely lead to incorrect results due to broadcasting. Please ensure they have the same size.\n",
      "  app.launch_new_instance()\n",
      "/usr/local/lib/python3.6/dist-packages/ipykernel_launcher.py:26: UserWarning: Using a target size (torch.Size([1])) that is different to the input size (torch.Size([80, 1])). This will likely lead to incorrect results due to broadcasting. Please ensure they have the same size.\n",
      "/usr/local/lib/python3.6/dist-packages/ipykernel_launcher.py:26: UserWarning: Using a target size (torch.Size([1])) that is different to the input size (torch.Size([30, 1])). This will likely lead to incorrect results due to broadcasting. Please ensure they have the same size.\n"
     ]
    },
    {
     "name": "stdout",
     "output_type": "stream",
     "text": [
      "Epoch [20], val_loss: 2279.9131\n",
      "Epoch [40], val_loss: 2279.9094\n",
      "Epoch [60], val_loss: 2279.9058\n",
      "Epoch [80], val_loss: 2279.9021\n",
      "Epoch [100], val_loss: 2279.8972\n"
     ]
    }
   ],
   "source": [
    "epochs = 100\n",
    "lr = 1e-6\n",
    "history5 = fit(epochs, lr, model, train_loader, val_loader)"
   ]
  },
  {
   "cell_type": "code",
   "execution_count": 248,
   "metadata": {
    "colab": {
     "base_uri": "https://localhost:8080/"
    },
    "id": "zYpiHnLsEkM_",
    "outputId": "61c96275-a9d6-4427-d51a-0e7bff8a7ef1"
   },
   "outputs": [
    {
     "name": "stderr",
     "output_type": "stream",
     "text": [
      "/usr/local/lib/python3.6/dist-packages/ipykernel_launcher.py:16: UserWarning: Using a target size (torch.Size([1])) that is different to the input size (torch.Size([80, 1])). This will likely lead to incorrect results due to broadcasting. Please ensure they have the same size.\n",
      "  app.launch_new_instance()\n",
      "/usr/local/lib/python3.6/dist-packages/ipykernel_launcher.py:16: UserWarning: Using a target size (torch.Size([1])) that is different to the input size (torch.Size([41, 1])). This will likely lead to incorrect results due to broadcasting. Please ensure they have the same size.\n",
      "  app.launch_new_instance()\n",
      "/usr/local/lib/python3.6/dist-packages/ipykernel_launcher.py:26: UserWarning: Using a target size (torch.Size([1])) that is different to the input size (torch.Size([80, 1])). This will likely lead to incorrect results due to broadcasting. Please ensure they have the same size.\n",
      "/usr/local/lib/python3.6/dist-packages/ipykernel_launcher.py:26: UserWarning: Using a target size (torch.Size([1])) that is different to the input size (torch.Size([30, 1])). This will likely lead to incorrect results due to broadcasting. Please ensure they have the same size.\n"
     ]
    },
    {
     "name": "stdout",
     "output_type": "stream",
     "text": [
      "Epoch [20], val_loss: 2279.8933\n",
      "Epoch [40], val_loss: 2279.8896\n",
      "Epoch [60], val_loss: 2279.8850\n",
      "Epoch [80], val_loss: 2279.8806\n",
      "Epoch [100], val_loss: 2279.8765\n"
     ]
    }
   ],
   "source": [
    "epochs = 100\n",
    "lr = 1e-6\n",
    "history5 = fit(epochs, lr, model, train_loader, val_loader)"
   ]
  },
  {
   "cell_type": "markdown",
   "metadata": {
    "id": "oZ4LzlU6EkM_"
   },
   "source": [
    "**Q: What is the final validation loss of your model?**"
   ]
  },
  {
   "cell_type": "code",
   "execution_count": 249,
   "metadata": {
    "colab": {
     "base_uri": "https://localhost:8080/"
    },
    "id": "cJ4ToRFoOVMb",
    "outputId": "fac4960b-63ed-4457-fa46-b555ed1423de"
   },
   "outputs": [
    {
     "data": {
      "text/plain": [
       "{'val_loss': 2279.916748046875}"
      ]
     },
     "execution_count": 249,
     "metadata": {
      "tags": []
     },
     "output_type": "execute_result"
    }
   ],
   "source": [
    "val_loss = history4[-1]\n",
    "val_loss"
   ]
  },
  {
   "cell_type": "code",
   "execution_count": 250,
   "metadata": {
    "colab": {
     "base_uri": "https://localhost:8080/",
     "height": 295
    },
    "id": "uDDsi2b0EkM_",
    "outputId": "6d5e3b94-020c-4605-c0e2-de632156bada"
   },
   "outputs": [
    {
     "data": {
      "image/png": "[encoded data removed]",
      "text/plain": [
       "<Figure size 432x288 with 1 Axes>"
      ]
     },
     "metadata": {
      "needs_background": "light",
      "tags": []
     },
     "output_type": "display_data"
    }
   ],
   "source": [
    "history = [result] + history1 + history2 + history3 + history4 + history5\n",
    "losses = [result['val_loss'] for result in history]\n",
    "plt.plot(losses, '-x')\n",
    "plt.xlabel('epoch')\n",
    "plt.ylabel('loss')\n",
    "plt.title('val loss vs. No. of epochs');"
   ]
  },
  {
   "cell_type": "markdown",
   "metadata": {
    "id": "GIAEgvmCqxCb"
   },
   "source": [
    "Looks like validation loss doesn't change much after 5 epochs"
   ]
  },
  {
   "cell_type": "markdown",
   "metadata": {
    "id": "CDE9zM8kEkM_"
   },
   "source": [
    "## Step 5: Make predictions using the trained model\n",
    "\n",
    "**Q: Complete the following function definition to make predictions on a single input**"
   ]
  },
  {
   "cell_type": "code",
   "execution_count": 45,
   "metadata": {
    "id": "Y02LACP4cwmL"
   },
   "outputs": [],
   "source": [
    "def sigmoid(x):\n",
    "    return 1 / (1 + np.exp(-x))"
   ]
  },
  {
   "cell_type": "code",
   "execution_count": 231,
   "metadata": {
    "id": "J6BhHya6EkM_"
   },
   "outputs": [],
   "source": [
    "def predict_single(input, target, model):\n",
    "    inputs = input.unsqueeze(0)\n",
    "    predictions = model(inputs)               # fill this\n",
    "    prediction = predictions[0].detach()\n",
    "    # \n",
    "    # print(\"Input:\", sc.inverse_transform(input.reshape(-1,5)))\n",
    "    print(\"Input:\", input)\n",
    "    # print(\"Target:\", sct.inverse_transform(target.reshape(-1,1)))\n",
    "    print(\"Target:\", target)\n",
    "    # prediction = sigmoid(prediction)\n",
    "    # prediction = sct.inverse_transform(prediction.reshape(-1,1))    \n",
    "    # print(\"Prediction:\", sct.inverse_transform(prediction.reshape(-1,1)))\n",
    "    print(\"Prediction:\", prediction)"
   ]
  },
  {
   "cell_type": "code",
   "execution_count": 254,
   "metadata": {
    "colab": {
     "base_uri": "https://localhost:8080/"
    },
    "id": "C8chEA8yEkM_",
    "outputId": "7360c7cc-c003-48e8-f368-d1bb9ef12054"
   },
   "outputs": [
    {
     "name": "stdout",
     "output_type": "stream",
     "text": [
      "Input: tensor([37.0000,  0.0000, 35.0892,  0.0000,  1.0000])\n",
      "Target: tensor([41742.5703])\n",
      "Prediction: tensor([12996.4951])\n"
     ]
    }
   ],
   "source": [
    "input, target = val_ds[0]\n",
    "predict_single(input, target, model)"
   ]
  },
  {
   "cell_type": "code",
   "execution_count": 252,
   "metadata": {
    "colab": {
     "base_uri": "https://localhost:8080/"
    },
    "id": "9eUbbt_3EkM_",
    "outputId": "26136d55-aac9-4e36-fb8b-3f56113d905b"
   },
   "outputs": [
    {
     "name": "stdout",
     "output_type": "stream",
     "text": [
      "Input: tensor([60.0000,  1.0000, 27.7248,  0.0000,  0.0000])\n",
      "Target: tensor([14026.4375])\n",
      "Prediction: tensor([14976.6992])\n"
     ]
    }
   ],
   "source": [
    "input, target = val_ds[20]\n",
    "predict_single(input, target, model)"
   ]
  },
  {
   "cell_type": "code",
   "execution_count": 253,
   "metadata": {
    "colab": {
     "base_uri": "https://localhost:8080/"
    },
    "id": "CIEO-OrjEkM_",
    "outputId": "53c8c89d-2505-4155-d8b0-263e977b8c04"
   },
   "outputs": [
    {
     "name": "stdout",
     "output_type": "stream",
     "text": [
      "Input: tensor([57.0000,  1.0000, 20.9019,  0.0000,  0.0000])\n",
      "Target: tensor([12919.0576])\n",
      "Prediction: tensor([13092.6494])\n"
     ]
    }
   ],
   "source": [
    "input, target = val_ds[14]\n",
    "predict_single(input, target, model)"
   ]
  },
  {
   "cell_type": "markdown",
   "metadata": {
    "id": "4THDSYcfEkM_"
   },
   "source": [
    "Are you happy with your model's predictions? Try to improve them further."
   ]
  },
  {
   "cell_type": "code",
   "execution_count": null,
   "metadata": {
    "id": "8UVf0-RXEkM_"
   },
   "outputs": [],
   "source": []
  }
 ],
 "metadata": {
  "colab": {
   "collapsed_sections": [],
   "name": "02-insurance-linear.ipynb",
   "provenance": []
  },
  "kernelspec": {
   "display_name": "Python 3",
   "language": "python",
   "name": "python3"
  },
  "language_info": {
   "codemirror_mode": {
    "name": "ipython",
    "version": 3
   },
   "file_extension": ".py",
   "mimetype": "text/x-python",
   "name": "python",
   "nbconvert_exporter": "python",
   "pygments_lexer": "ipython3",
   "version": "3.6.5"
  }
 },
 "nbformat": 4,
 "nbformat_minor": 1
}
